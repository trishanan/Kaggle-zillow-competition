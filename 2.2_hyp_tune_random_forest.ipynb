{
 "cells": [
  {
   "cell_type": "markdown",
   "metadata": {},
   "source": [
    "## 1. Importing libraries"
   ]
  },
  {
   "cell_type": "code",
   "execution_count": 4,
   "metadata": {},
   "outputs": [],
   "source": [
    "import pandas as pd\n",
    "from sklearn.ensemble import RandomForestRegressor\n",
    "import sys\n",
    "sys.path.insert(0, './modules')\n",
    "from Data_prep import Data\n",
    "import seaborn as sns\n",
    "import matplotlib.pyplot as plt\n",
    "from sklearn import metrics\n",
    "from sklearn.model_selection import GridSearchCV\n",
    "from sklearn.model_selection import train_test_split\n",
    "import warnings\n",
    "warnings.filterwarnings('ignore')"
   ]
  },
  {
   "cell_type": "markdown",
   "metadata": {},
   "source": [
    "## 2. Define parameters required to create data"
   ]
  },
  {
   "cell_type": "code",
   "execution_count": 5,
   "metadata": {},
   "outputs": [],
   "source": [
    "#define number of processors to use for parallel runs\n",
    "num_procs = 4\n",
    "\n",
    "#set verbose level for models\n",
    "verbose_lvl = 0\n",
    "\n",
    "#define input files\n",
    "train_file = r'C:\\Users\\Admin\\Desktop\\Kaggle_Zillow Compitation\\Raw Data\\train_2016.csv'\n",
    "properties_2016_file = r'C:\\Users\\Admin\\Desktop\\Kaggle_Zillow Compitation\\Raw Data\\properties_2016.csv'\n",
    "test_file = r'C:\\Users\\Admin\\Desktop\\Kaggle_Zillow Compitation\\Raw Data\\train_2017.csv'\n",
    "properties_2017_file = r'C:\\Users\\Admin\\Desktop\\Kaggle_Zillow Compitation\\Raw Data\\properties_2017.csv'\n",
    "\n",
    "\n",
    "#define variables\n",
    "cat_cols = ['hashottuborspa', 'propertycountylandusecode', 'fireplaceflag', 'taxdelinquencyflag']\n",
    "num_cols = ['airconditioningtypeid', 'architecturalstyletypeid',\n",
    "       'basementsqft', 'bathroomcnt', 'bedroomcnt', 'buildingclasstypeid',\n",
    "       'buildingqualitytypeid', 'calculatedbathnbr', 'decktypeid',\n",
    "       'finishedfloor1squarefeet', 'calculatedfinishedsquarefeet',\n",
    "       'finishedsquarefeet12', 'finishedsquarefeet13', 'finishedsquarefeet15',\n",
    "       'finishedsquarefeet50', 'finishedsquarefeet6', 'fips', 'fireplacecnt',\n",
    "       'fullbathcnt', 'garagecarcnt', 'garagetotalsqft',\n",
    "       'heatingorsystemtypeid', 'latitude', 'longitude', 'lotsizesquarefeet',\n",
    "       'poolcnt', 'poolsizesum', 'pooltypeid10', 'pooltypeid2', 'pooltypeid7',\n",
    "        'propertylandusetypeid', 'regionidcity',\n",
    "       'regionidcounty', 'roomcnt', 'storytypeid', 'threequarterbathnbr',\n",
    "       'typeconstructiontypeid', 'unitcnt', 'yardbuildingsqft17',\n",
    "       'yardbuildingsqft26', 'yearbuilt', 'numberofstories',\n",
    "       'structuretaxvaluedollarcnt', 'taxvaluedollarcnt', 'assessmentyear',\n",
    "       'landtaxvaluedollarcnt', 'taxamount',\n",
    "       'taxdelinquencyyear']\n",
    "date_col = ['transactiondate']\n",
    "target_col = 'logerror'\n",
    "id_col = 'parcelid'"
   ]
  },
  {
   "cell_type": "markdown",
   "metadata": {},
   "source": [
    "## 3. Creating a data object"
   ]
  },
  {
   "cell_type": "code",
   "execution_count": 6,
   "metadata": {},
   "outputs": [],
   "source": [
    "data = Data(train_file, properties_2016_file, test_file, properties_2017_file , cat_cols, num_cols, date_col, target_col, id_col)"
   ]
  },
  {
   "cell_type": "code",
   "execution_count": 7,
   "metadata": {},
   "outputs": [],
   "source": [
    "cols = list(set(data.train_df.columns).intersection(set(data.test_df.columns)))\n",
    "data.train_df = data.train_df.loc[:,cols]\n",
    "data.test_df = data.test_df.loc[:,cols]"
   ]
  },
  {
   "cell_type": "code",
   "execution_count": 8,
   "metadata": {},
   "outputs": [
    {
     "data": {
      "text/plain": [
       "(10000, 119)"
      ]
     },
     "execution_count": 8,
     "metadata": {},
     "output_type": "execute_result"
    }
   ],
   "source": [
    "data.train_df = data.train_df.sample(n = 10000,replace = True, random_state = 2)\n",
    "data.train_df.shape"
   ]
  },
  {
   "cell_type": "markdown",
   "metadata": {},
   "source": [
    "## 4. Train/test split"
   ]
  },
  {
   "cell_type": "code",
   "execution_count": 9,
   "metadata": {},
   "outputs": [],
   "source": [
    "# Split Train/Test Set\n",
    "X_train_2, X_test_2, y_train_2, y_test_2 = train_test_split(data.train_df.drop([\"logerror\"], axis=1), data.train_df[\"logerror\"],random_state=10, test_size=0.25)"
   ]
  },
  {
   "cell_type": "markdown",
   "metadata": {},
   "source": [
    "## 5. Tuning hyperparmeters using learning curves \n",
    "## 5.1 Tuning max_depth "
   ]
  },
  {
   "cell_type": "markdown",
   "metadata": {},
   "source": [
    "## The optimal max_depth parameter is 20"
   ]
  },
  {
   "cell_type": "code",
   "execution_count": 10,
   "metadata": {},
   "outputs": [
    {
     "name": "stdout",
     "output_type": "stream",
     "text": [
      "1 depth\n",
      "mse Train:  0.028178597687103783\n",
      "mse Test:  0.038726713222745505\n",
      " \n",
      "2 depth\n",
      "mse Train:  0.02777436997721648\n",
      "mse Test:  0.038313516691916634\n",
      " \n",
      "3 depth\n",
      "mse Train:  0.02686174356074575\n",
      "mse Test:  0.03711440098657773\n",
      " \n",
      "4 depth\n",
      "mse Train:  0.02579327794346119\n",
      "mse Test:  0.036214196242940526\n",
      " \n",
      "5 depth\n",
      "mse Train:  0.024418180011311626\n",
      "mse Test:  0.0348694720402731\n",
      " \n",
      "10 depth\n",
      "mse Train:  0.01770303357633508\n",
      "mse Test:  0.03165552227680925\n",
      " \n",
      "20 depth\n",
      "mse Train:  0.008343697934592406\n",
      "mse Test:  0.03123710019589992\n",
      " \n",
      "50 depth\n",
      "mse Train:  0.00422917341209269\n",
      "mse Test:  0.03163080547792945\n",
      " \n",
      "100 depth\n",
      "mse Train:  0.004224245583499372\n",
      "mse Test:  0.03172393998786914\n",
      " \n"
     ]
    },
    {
     "data": {
      "image/png": "[encoded data removed]",
      "text/plain": [
       "<Figure size 432x288 with 1 Axes>"
      ]
     },
     "metadata": {
      "needs_background": "light"
     },
     "output_type": "display_data"
    }
   ],
   "source": [
    "results  =  []\n",
    "results2 = []\n",
    "max_depth_size  = [1,2,3,4,5,10,20,50,100]\n",
    "\n",
    "for depth in max_depth_size:\n",
    "    model = RandomForestRegressor(max_depth = depth, oob_score=True, n_jobs=-1, random_state=44)\n",
    "    #model.fit(X, y)\n",
    "    model.fit(X_train_2, y_train_2)\n",
    "    print(depth, 'depth')\n",
    "    pred = model.predict(X_train_2)\n",
    "    pred2 = model.predict(X_test_2)\n",
    "    mse1 = metrics.mean_squared_error(y_train_2, pred)\n",
    "    mse2 = metrics.mean_squared_error(y_test_2, pred2)\n",
    "    print('mse Train: ', mse1)\n",
    "    print('mse Test: ', mse2)\n",
    "    results.append(mse1)\n",
    "    results2.append(mse2)\n",
    "    print (\" \")\n",
    "\n",
    "plt.plot(max_depth_size, results, label='Train Set')\n",
    "plt.plot(max_depth_size, results2, label='Test Set')\n",
    "plt.xlabel('Max Depth Size')\n",
    "plt.ylabel('MSE')\n",
    "plt.title('Train VS Test Scores')\n",
    "plt.legend(loc=\"lower right\")\n",
    "plt.show()"
   ]
  },
  {
   "cell_type": "markdown",
   "metadata": {},
   "source": [
    "## 6.2 Tuning n_estimators"
   ]
  },
  {
   "cell_type": "markdown",
   "metadata": {},
   "source": [
    "## The optimal number of estimators is 100"
   ]
  },
  {
   "cell_type": "code",
   "execution_count": 17,
   "metadata": {},
   "outputs": [
    {
     "name": "stdout",
     "output_type": "stream",
     "text": [
      "1 estimator\n",
      "mse Train:  0.023492109349333334\n",
      "mse Test:  0.087989712004\n",
      " \n",
      "2 estimator\n",
      "mse Train:  0.011894490487666666\n",
      "mse Test:  0.05004150322300001\n",
      " \n",
      "3 estimator\n",
      "mse Train:  0.009022361065185183\n",
      "mse Test:  0.04410302222977778\n",
      " \n",
      "4 estimator\n",
      "mse Train:  0.007960819203583333\n",
      "mse Test:  0.040507715687000005\n",
      " \n",
      "5 estimator\n",
      "mse Train:  0.0071982293816\n",
      "mse Test:  0.038932693254400005\n",
      " \n",
      "10 estimator\n",
      "mse Train:  0.0053594629125175005\n",
      "mse Test:  0.034023505413807505\n",
      " \n",
      "20 estimator\n",
      "mse Train:  0.004629049346103733\n",
      "mse Test:  0.03240243562250835\n",
      " \n",
      "50 estimator\n",
      "mse Train:  0.003984873937302306\n",
      "mse Test:  0.031443577561205305\n",
      " \n",
      "100 estimator\n",
      "mse Train:  0.004224245583499373\n",
      "mse Test:  0.03172393998786914\n",
      " \n"
     ]
    },
    {
     "data": {
      "image/png": "[encoded data removed]",
      "text/plain": [
       "<Figure size 432x288 with 1 Axes>"
      ]
     },
     "metadata": {
      "needs_background": "light"
     },
     "output_type": "display_data"
    }
   ],
   "source": [
    "results  =  []\n",
    "results2 = []\n",
    "estimators  = [1,2,3,4,5,10,20,50,100]\n",
    "\n",
    "for estimator in estimators:\n",
    "    model = RandomForestRegressor(n_estimators = estimator, oob_score=True, n_jobs=-1, random_state=44)\n",
    "    #model.fit(X, y)\n",
    "    model.fit(X_train_2, y_train_2)\n",
    "    print(estimator, 'estimator')\n",
    "    pred = model.predict(X_train_2)\n",
    "    pred2 = model.predict(X_test_2)\n",
    "    mse1 = metrics.mean_squared_error(y_train_2, pred)\n",
    "    mse2 = metrics.mean_squared_error(y_test_2, pred2)\n",
    "    print('mse Train: ', mse1)\n",
    "    print('mse Test: ', mse2)\n",
    "    results.append(mse1)\n",
    "    results2.append(mse2)\n",
    "    print (\" \")\n",
    "\n",
    "plt.plot(max_depth_size, results, label='Train Set')\n",
    "plt.plot(max_depth_size, results2, label='Test Set')\n",
    "plt.xlabel('Max number of estimators')\n",
    "plt.ylabel('MSE')\n",
    "plt.title('Train VS Test Scores')\n",
    "plt.legend(loc=\"lower right\")\n",
    "plt.show()"
   ]
  },
  {
   "cell_type": "markdown",
   "metadata": {},
   "source": [
    "## 5.3 Tuning max_features using OOB score \n",
    "## The optimal max_features is 0.7"
   ]
  },
  {
   "cell_type": "code",
   "execution_count": 12,
   "metadata": {},
   "outputs": [
    {
     "name": "stdout",
     "output_type": "stream",
     "text": [
      "auto option\n",
      "oob:  -0.1981820947912294\n",
      " \n",
      "None option\n",
      "oob:  -0.1981820947912294\n",
      " \n",
      "sqrt option\n",
      "oob:  -0.1331008322551106\n",
      " \n",
      "log2 option\n",
      "oob:  -0.1342932804010608\n",
      " \n",
      "0.7 option\n",
      "oob:  -0.20093935412118125\n",
      " \n",
      "0.2 option\n",
      "oob:  -0.16333814362617272\n",
      " \n"
     ]
    },
    {
     "data": {
      "text/plain": [
       "<matplotlib.axes._subplots.AxesSubplot at 0x18b76a0d2e8>"
      ]
     },
     "execution_count": 12,
     "metadata": {},
     "output_type": "execute_result"
    },
    {
     "data": {
      "image/png": "[encoded data removed]",
      "text/plain": [
       "<Figure size 432x288 with 1 Axes>"
      ]
     },
     "metadata": {
      "needs_background": "light"
     },
     "output_type": "display_data"
    }
   ],
   "source": [
    "results = []\n",
    "max_features_options = [\"auto\", None, \"sqrt\", \"log2\", 0.7, 0.2]\n",
    "\n",
    "for max_features in max_features_options:\n",
    "    model = RandomForestRegressor(n_estimators=20, oob_score=True, n_jobs=-1, random_state=42, max_features=max_features)\n",
    "    model.fit(X_train_2, y_train_2)\n",
    "    print(max_features, \"option\")\n",
    "    oob = model.oob_score_\n",
    "    print('oob: ', oob)\n",
    "    results.append(oob)\n",
    "    print (\" \")\n",
    "    \n",
    "pd.Series(results, max_features_options).plot(kind='bar')"
   ]
  },
  {
   "cell_type": "markdown",
   "metadata": {},
   "source": [
    "## 5.4 Tuning min_samples_leaf using OOB score "
   ]
  },
  {
   "cell_type": "markdown",
   "metadata": {},
   "source": [
    "## The optimum min_samples_leaf is 6"
   ]
  },
  {
   "cell_type": "code",
   "execution_count": 13,
   "metadata": {},
   "outputs": [
    {
     "name": "stdout",
     "output_type": "stream",
     "text": [
      "1 min samples\n",
      "oob:  -0.061718180322892335\n",
      " \n",
      "2 min samples\n",
      "oob:  -0.019806188499422728\n",
      " \n",
      "3 min samples\n",
      "oob:  -0.011518001616452889\n",
      " \n",
      "4 min samples\n",
      "oob:  -0.004290115930033922\n",
      " \n",
      "5 min samples\n",
      "oob:  -0.0032202815327817547\n",
      " \n",
      "6 min samples\n",
      "oob:  0.0015025698415838118\n",
      " \n",
      "7 min samples\n",
      "oob:  0.004085627702464123\n",
      " \n",
      "8 min samples\n",
      "oob:  0.002839084622363597\n",
      " \n",
      "9 min samples\n",
      "oob:  0.0023751249110390837\n",
      " \n",
      "10 min samples\n",
      "oob:  0.002282616370165802\n",
      " \n",
      "20 min samples\n",
      "oob:  0.005840030355982018\n",
      " \n"
     ]
    },
    {
     "data": {
      "text/plain": [
       "<matplotlib.axes._subplots.AxesSubplot at 0x18b76730b70>"
      ]
     },
     "execution_count": 13,
     "metadata": {},
     "output_type": "execute_result"
    },
    {
     "data": {
      "image/png": "[encoded data removed]",
      "text/plain": [
       "<Figure size 432x288 with 1 Axes>"
      ]
     },
     "metadata": {
      "needs_background": "light"
     },
     "output_type": "display_data"
    }
   ],
   "source": [
    "results = []\n",
    "min_samples_leaf_options = [1, 2, 3, 4, 5, 6, 7, 8, 9, 10,20]\n",
    "\n",
    "for min_samples in min_samples_leaf_options:\n",
    "    model = RandomForestRegressor(n_estimators=100, oob_score=True, n_jobs=-1, random_state=42, max_features=0.7, min_samples_leaf=min_samples)\n",
    "    model.fit(X_train_2, y_train_2)\n",
    "    print(min_samples, \"min samples\")\n",
    "    oob = model.oob_score_\n",
    "    print('oob: ', oob)\n",
    "    results.append(oob)\n",
    "    print (\" \")\n",
    "    \n",
    "pd.Series(results, min_samples_leaf_options).plot()"
   ]
  },
  {
   "cell_type": "markdown",
   "metadata": {},
   "source": [
    "## 6. Perform grid_search"
   ]
  },
  {
   "cell_type": "code",
   "execution_count": 18,
   "metadata": {},
   "outputs": [],
   "source": [
    "model = RandomForestRegressor()"
   ]
  },
  {
   "cell_type": "code",
   "execution_count": 19,
   "metadata": {},
   "outputs": [],
   "source": [
    "# Define Parameters\n",
    "param_grid = {\"max_depth\": [18,20,22],\n",
    "              \"max_features\" : [0.7,0.8],\n",
    "              \"min_samples_leaf\" : [6,10,9],\n",
    "              \"n_estimators\": [100,500,200]\n",
    "             }"
   ]
  },
  {
   "cell_type": "code",
   "execution_count": 20,
   "metadata": {},
   "outputs": [
    {
     "name": "stdout",
     "output_type": "stream",
     "text": [
      "Fitting 3 folds for each of 54 candidates, totalling 162 fits\n"
     ]
    },
    {
     "name": "stderr",
     "output_type": "stream",
     "text": [
      "[Parallel(n_jobs=-1)]: Using backend LokyBackend with 8 concurrent workers.\n",
      "[Parallel(n_jobs=-1)]: Done   2 tasks      | elapsed:    9.8s\n",
      "[Parallel(n_jobs=-1)]: Done   9 tasks      | elapsed:   26.0s\n",
      "[Parallel(n_jobs=-1)]: Done  16 tasks      | elapsed:   48.9s\n",
      "[Parallel(n_jobs=-1)]: Done  25 tasks      | elapsed:  1.2min\n",
      "[Parallel(n_jobs=-1)]: Done  34 tasks      | elapsed:  1.7min\n",
      "[Parallel(n_jobs=-1)]: Done  45 tasks      | elapsed:  2.3min\n",
      "[Parallel(n_jobs=-1)]: Done  56 tasks      | elapsed:  2.9min\n",
      "[Parallel(n_jobs=-1)]: Done  69 tasks      | elapsed:  3.6min\n",
      "[Parallel(n_jobs=-1)]: Done  82 tasks      | elapsed:  4.3min\n",
      "[Parallel(n_jobs=-1)]: Done  97 tasks      | elapsed:  5.2min\n",
      "[Parallel(n_jobs=-1)]: Done 112 tasks      | elapsed:  6.3min\n",
      "[Parallel(n_jobs=-1)]: Done 129 tasks      | elapsed:  7.4min\n",
      "[Parallel(n_jobs=-1)]: Done 146 tasks      | elapsed:  8.5min\n",
      "[Parallel(n_jobs=-1)]: Done 162 out of 162 | elapsed:  9.5min finished\n"
     ]
    }
   ],
   "source": [
    "gs_cv = GridSearchCV(model, param_grid=param_grid, cv = 3, verbose=10, n_jobs=-1 ).fit(X_train_2, y_train_2)"
   ]
  },
  {
   "cell_type": "code",
   "execution_count": 22,
   "metadata": {},
   "outputs": [
    {
     "data": {
      "text/plain": [
       "RandomForestRegressor(bootstrap=True, ccp_alpha=0.0, criterion='mse',\n",
       "                      max_depth=22, max_features=0.7, max_leaf_nodes=None,\n",
       "                      max_samples=None, min_impurity_decrease=0.0,\n",
       "                      min_impurity_split=None, min_samples_leaf=10,\n",
       "                      min_samples_split=2, min_weight_fraction_leaf=0.0,\n",
       "                      n_estimators=500, n_jobs=None, oob_score=False,\n",
       "                      random_state=None, verbose=0, warm_start=False)"
      ]
     },
     "execution_count": 22,
     "metadata": {},
     "output_type": "execute_result"
    }
   ],
   "source": [
    "gs_cv.best_estimator_"
   ]
  },
  {
   "cell_type": "code",
   "execution_count": null,
   "metadata": {},
   "outputs": [],
   "source": []
  }
 ],
 "metadata": {
  "kernelspec": {
   "display_name": "Python 3",
   "language": "python",
   "name": "python3"
  },
  "language_info": {
   "codemirror_mode": {
    "name": "ipython",
    "version": 3
   },
   "file_extension": ".py",
   "mimetype": "text/x-python",
   "name": "python",
   "nbconvert_exporter": "python",
   "pygments_lexer": "ipython3",
   "version": "3.7.1"
  }
 },
 "nbformat": 4,
 "nbformat_minor": 4
}
