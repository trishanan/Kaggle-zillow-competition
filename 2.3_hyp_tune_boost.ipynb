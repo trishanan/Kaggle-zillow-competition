{
 "cells": [
  {
   "cell_type": "markdown",
   "metadata": {},
   "source": [
    "## 1. Importing libraries"
   ]
  },
  {
   "cell_type": "code",
   "execution_count": 2,
   "metadata": {},
   "outputs": [],
   "source": [
    "import pandas as pd\n",
    "import numpy as np\n",
    "import sys\n",
    "sys.path.insert(0, './modules')\n",
    "from Data_prep import Data\n",
    "import xgboost as xgb\n",
    "import seaborn as sns\n",
    "import matplotlib.pyplot as plt\n",
    "from sklearn import metrics\n",
    "from sklearn.model_selection import GridSearchCV\n",
    "from sklearn.model_selection import train_test_split\n",
    "import warnings\n",
    "warnings.filterwarnings('ignore')"
   ]
  },
  {
   "cell_type": "markdown",
   "metadata": {},
   "source": [
    "## 2. Define parameters required to create data"
   ]
  },
  {
   "cell_type": "code",
   "execution_count": 3,
   "metadata": {},
   "outputs": [],
   "source": [
    "#define number of processors to use for parallel runs\n",
    "num_procs = 4\n",
    "\n",
    "#set verbose level for models\n",
    "verbose_lvl = 0\n",
    "\n",
    "#define input files\n",
    "train_file = r'C:\\Users\\Admin\\Desktop\\Kaggle_Zillow Compitation\\Raw Data\\train_2016.csv'\n",
    "properties_2016_file = r'C:\\Users\\Admin\\Desktop\\Kaggle_Zillow Compitation\\Raw Data\\properties_2016.csv'\n",
    "test_file = r'C:\\Users\\Admin\\Desktop\\Kaggle_Zillow Compitation\\Raw Data\\train_2017.csv'\n",
    "properties_2017_file = r'C:\\Users\\Admin\\Desktop\\Kaggle_Zillow Compitation\\Raw Data\\properties_2017.csv'\n",
    "\n",
    "\n",
    "#define variables\n",
    "cat_cols = ['hashottuborspa', 'propertycountylandusecode', 'fireplaceflag', 'taxdelinquencyflag']\n",
    "num_cols = ['airconditioningtypeid', 'architecturalstyletypeid',\n",
    "       'basementsqft', 'bathroomcnt', 'bedroomcnt', 'buildingclasstypeid',\n",
    "       'buildingqualitytypeid', 'calculatedbathnbr', 'decktypeid',\n",
    "       'finishedfloor1squarefeet', 'calculatedfinishedsquarefeet',\n",
    "       'finishedsquarefeet12', 'finishedsquarefeet13', 'finishedsquarefeet15',\n",
    "       'finishedsquarefeet50', 'finishedsquarefeet6', 'fips', 'fireplacecnt',\n",
    "       'fullbathcnt', 'garagecarcnt', 'garagetotalsqft',\n",
    "       'heatingorsystemtypeid', 'latitude', 'longitude', 'lotsizesquarefeet',\n",
    "       'poolcnt', 'poolsizesum', 'pooltypeid10', 'pooltypeid2', 'pooltypeid7',\n",
    "        'propertylandusetypeid', 'regionidcity',\n",
    "       'regionidcounty', 'roomcnt', 'storytypeid', 'threequarterbathnbr',\n",
    "       'typeconstructiontypeid', 'unitcnt', 'yardbuildingsqft17',\n",
    "       'yardbuildingsqft26', 'yearbuilt', 'numberofstories',\n",
    "       'structuretaxvaluedollarcnt', 'taxvaluedollarcnt', 'assessmentyear',\n",
    "       'landtaxvaluedollarcnt', 'taxamount',\n",
    "       'taxdelinquencyyear']\n",
    "date_col = ['transactiondate']\n",
    "target_col = 'logerror'\n",
    "id_col = 'parcelid'"
   ]
  },
  {
   "cell_type": "markdown",
   "metadata": {},
   "source": [
    "## 3. Creating a data object"
   ]
  },
  {
   "cell_type": "code",
   "execution_count": 4,
   "metadata": {},
   "outputs": [],
   "source": [
    "data = Data(train_file, properties_2016_file, test_file, properties_2017_file , cat_cols, num_cols, date_col, target_col, id_col)"
   ]
  },
  {
   "cell_type": "markdown",
   "metadata": {},
   "source": [
    "## Taking a sample of the dataset due to computational limitations"
   ]
  },
  {
   "cell_type": "code",
   "execution_count": 6,
   "metadata": {},
   "outputs": [],
   "source": [
    "data.train_df = data.train_df.sample(n = 10000,replace = True, random_state = 2)"
   ]
  },
  {
   "cell_type": "code",
   "execution_count": 7,
   "metadata": {},
   "outputs": [],
   "source": [
    "cols = list(set(data.train_df.columns).intersection(set(data.test_df.columns)))\n",
    "data.train_df = data.train_df.loc[:,cols]\n",
    "data.test_df = data.test_df.loc[:,cols]"
   ]
  },
  {
   "cell_type": "code",
   "execution_count": 8,
   "metadata": {},
   "outputs": [
    {
     "data": {
      "text/plain": [
       "(10000, 119)"
      ]
     },
     "execution_count": 8,
     "metadata": {},
     "output_type": "execute_result"
    }
   ],
   "source": [
    "data.train_df.shape"
   ]
  },
  {
   "cell_type": "markdown",
   "metadata": {},
   "source": [
    "## 4. Train/test split"
   ]
  },
  {
   "cell_type": "code",
   "execution_count": 9,
   "metadata": {},
   "outputs": [],
   "source": [
    "# Split Train/Test Set\n",
    "X_train_2, X_test_2, y_train_2, y_test_2 = train_test_split(data.train_df.drop([\"logerror\"], axis=1), data.train_df[\"logerror\"],random_state=10, test_size=0.25)"
   ]
  },
  {
   "cell_type": "code",
   "execution_count": 10,
   "metadata": {},
   "outputs": [
    {
     "data": {
      "text/plain": [
       "(7500, 118)"
      ]
     },
     "execution_count": 10,
     "metadata": {},
     "output_type": "execute_result"
    }
   ],
   "source": [
    "X_train_2.shape"
   ]
  },
  {
   "cell_type": "markdown",
   "metadata": {},
   "source": [
    "## 5.Creating an evaluation set"
   ]
  },
  {
   "cell_type": "code",
   "execution_count": 11,
   "metadata": {},
   "outputs": [],
   "source": [
    "# Create empty array to store results\n",
    "results = []\n",
    "\n",
    "# Create watchlist to keep track of train/validation performance\n",
    "eval_set = [(X_train_2, y_train_2), (X_test_2, y_test_2)]"
   ]
  },
  {
   "cell_type": "markdown",
   "metadata": {},
   "source": [
    "## 6. Tuning hyperparmeters using learning curves \n",
    "## 6.1 Tuning max_depth "
   ]
  },
  {
   "cell_type": "markdown",
   "metadata": {},
   "source": [
    "## The optimum max_depth is 5"
   ]
  },
  {
   "cell_type": "code",
   "execution_count": 12,
   "metadata": {},
   "outputs": [
    {
     "data": {
      "text/html": [
       "<div>\n",
       "<style scoped>\n",
       "    .dataframe tbody tr th:only-of-type {\n",
       "        vertical-align: middle;\n",
       "    }\n",
       "\n",
       "    .dataframe tbody tr th {\n",
       "        vertical-align: top;\n",
       "    }\n",
       "\n",
       "    .dataframe thead th {\n",
       "        text-align: right;\n",
       "    }\n",
       "</style>\n",
       "<table border=\"1\" class=\"dataframe\">\n",
       "  <thead>\n",
       "    <tr style=\"text-align: right;\">\n",
       "      <th></th>\n",
       "      <th>train_error</th>\n",
       "      <th>test_error</th>\n",
       "    </tr>\n",
       "    <tr>\n",
       "      <th>max_depth</th>\n",
       "      <th></th>\n",
       "      <th></th>\n",
       "    </tr>\n",
       "  </thead>\n",
       "  <tbody>\n",
       "    <tr>\n",
       "      <th>2</th>\n",
       "      <td>0.025740</td>\n",
       "      <td>0.037775</td>\n",
       "    </tr>\n",
       "    <tr>\n",
       "      <th>3</th>\n",
       "      <td>0.021553</td>\n",
       "      <td>0.033865</td>\n",
       "    </tr>\n",
       "    <tr>\n",
       "      <th>4</th>\n",
       "      <td>0.018257</td>\n",
       "      <td>0.032825</td>\n",
       "    </tr>\n",
       "    <tr>\n",
       "      <th>5</th>\n",
       "      <td>0.014268</td>\n",
       "      <td>0.031679</td>\n",
       "    </tr>\n",
       "    <tr>\n",
       "      <th>10</th>\n",
       "      <td>0.003382</td>\n",
       "      <td>0.031514</td>\n",
       "    </tr>\n",
       "    <tr>\n",
       "      <th>12</th>\n",
       "      <td>0.001491</td>\n",
       "      <td>0.031478</td>\n",
       "    </tr>\n",
       "    <tr>\n",
       "      <th>15</th>\n",
       "      <td>0.000441</td>\n",
       "      <td>0.031557</td>\n",
       "    </tr>\n",
       "  </tbody>\n",
       "</table>\n",
       "</div>"
      ],
      "text/plain": [
       "           train_error  test_error\n",
       "max_depth                         \n",
       "2             0.025740    0.037775\n",
       "3             0.021553    0.033865\n",
       "4             0.018257    0.032825\n",
       "5             0.014268    0.031679\n",
       "10            0.003382    0.031514\n",
       "12            0.001491    0.031478\n",
       "15            0.000441    0.031557"
      ]
     },
     "execution_count": 12,
     "metadata": {},
     "output_type": "execute_result"
    }
   ],
   "source": [
    "for max_depth in [2,3,4,5,10,12,15]:\n",
    "    clf = xgb.XGBRegressor(max_depth=max_depth)\n",
    "    clf.fit(X_train_2, y_train_2, eval_set=eval_set, verbose=False)\n",
    "    results.append(\n",
    "        {\n",
    "            'max_depth': max_depth,\n",
    "            'train_error': metrics.mean_squared_error(y_train_2, clf.predict(X_train_2)),\n",
    "            'test_error': metrics.mean_squared_error(y_test_2, clf.predict(X_test_2))\n",
    "        })\n",
    "    \n",
    "# Display Results\n",
    "max_depth_lr = pd.DataFrame(results).set_index('max_depth').sort_index()\n",
    "max_depth_lr"
   ]
  },
  {
   "cell_type": "code",
   "execution_count": 13,
   "metadata": {},
   "outputs": [
    {
     "data": {
      "text/plain": [
       "<matplotlib.axes._subplots.AxesSubplot at 0x1c99d977b00>"
      ]
     },
     "execution_count": 13,
     "metadata": {},
     "output_type": "execute_result"
    },
    {
     "data": {
      "image/png": "[encoded data removed]",
      "text/plain": [
       "<Figure size 432x288 with 1 Axes>"
      ]
     },
     "metadata": {
      "needs_background": "light"
     },
     "output_type": "display_data"
    }
   ],
   "source": [
    "# Plot Max_Depth Learning Curve\n",
    "max_depth_lr.plot(title=\"Max_Depth Learning Curve\")"
   ]
  },
  {
   "cell_type": "markdown",
   "metadata": {},
   "source": [
    "## 6.2 Tuning learning_rate "
   ]
  },
  {
   "cell_type": "markdown",
   "metadata": {},
   "source": [
    "## The best learning rate is 0.20"
   ]
  },
  {
   "cell_type": "code",
   "execution_count": 14,
   "metadata": {},
   "outputs": [
    {
     "data": {
      "text/html": [
       "<div>\n",
       "<style scoped>\n",
       "    .dataframe tbody tr th:only-of-type {\n",
       "        vertical-align: middle;\n",
       "    }\n",
       "\n",
       "    .dataframe tbody tr th {\n",
       "        vertical-align: top;\n",
       "    }\n",
       "\n",
       "    .dataframe thead th {\n",
       "        text-align: right;\n",
       "    }\n",
       "</style>\n",
       "<table border=\"1\" class=\"dataframe\">\n",
       "  <thead>\n",
       "    <tr style=\"text-align: right;\">\n",
       "      <th></th>\n",
       "      <th>train_error</th>\n",
       "      <th>test_error</th>\n",
       "    </tr>\n",
       "    <tr>\n",
       "      <th>learning_rate</th>\n",
       "      <th></th>\n",
       "      <th></th>\n",
       "    </tr>\n",
       "  </thead>\n",
       "  <tbody>\n",
       "    <tr>\n",
       "      <th>0.05</th>\n",
       "      <td>0.025811</td>\n",
       "      <td>0.037913</td>\n",
       "    </tr>\n",
       "    <tr>\n",
       "      <th>0.10</th>\n",
       "      <td>0.023959</td>\n",
       "      <td>0.036721</td>\n",
       "    </tr>\n",
       "    <tr>\n",
       "      <th>0.20</th>\n",
       "      <td>0.020713</td>\n",
       "      <td>0.034248</td>\n",
       "    </tr>\n",
       "    <tr>\n",
       "      <th>0.40</th>\n",
       "      <td>0.017540</td>\n",
       "      <td>0.034723</td>\n",
       "    </tr>\n",
       "    <tr>\n",
       "      <th>0.60</th>\n",
       "      <td>0.013985</td>\n",
       "      <td>0.034284</td>\n",
       "    </tr>\n",
       "    <tr>\n",
       "      <th>0.80</th>\n",
       "      <td>0.013827</td>\n",
       "      <td>0.037598</td>\n",
       "    </tr>\n",
       "    <tr>\n",
       "      <th>1.00</th>\n",
       "      <td>0.011717</td>\n",
       "      <td>0.036704</td>\n",
       "    </tr>\n",
       "  </tbody>\n",
       "</table>\n",
       "</div>"
      ],
      "text/plain": [
       "               train_error  test_error\n",
       "learning_rate                         \n",
       "0.05              0.025811    0.037913\n",
       "0.10              0.023959    0.036721\n",
       "0.20              0.020713    0.034248\n",
       "0.40              0.017540    0.034723\n",
       "0.60              0.013985    0.034284\n",
       "0.80              0.013827    0.037598\n",
       "1.00              0.011717    0.036704"
      ]
     },
     "execution_count": 14,
     "metadata": {},
     "output_type": "execute_result"
    }
   ],
   "source": [
    "results = []\n",
    "\n",
    "for learning_rate in [0.05,0.1,0.2,0.4,0.6,0.8,1]:\n",
    "    clf = xgb.XGBRegressor(max_depth=2,learning_rate=learning_rate, n_estimators=200)\n",
    "    clf.fit(X_train_2, y_train_2, eval_set=eval_set, verbose=False)\n",
    "    results.append(\n",
    "        {\n",
    "            'learning_rate': learning_rate,\n",
    "            'train_error': metrics.mean_squared_error(y_train_2, clf.predict(X_train_2)),\n",
    "            'test_error': metrics.mean_squared_error(y_test_2, clf.predict(X_test_2))\n",
    "        })\n",
    "    \n",
    "learning_rate_lr = pd.DataFrame(results).set_index('learning_rate').sort_index()\n",
    "learning_rate_lr"
   ]
  },
  {
   "cell_type": "code",
   "execution_count": 15,
   "metadata": {},
   "outputs": [
    {
     "data": {
      "text/plain": [
       "<matplotlib.axes._subplots.AxesSubplot at 0x1c99c91bcf8>"
      ]
     },
     "execution_count": 15,
     "metadata": {},
     "output_type": "execute_result"
    },
    {
     "data": {
      "image/png": "[encoded data removed]",
      "text/plain": [
       "<Figure size 432x288 with 1 Axes>"
      ]
     },
     "metadata": {
      "needs_background": "light"
     },
     "output_type": "display_data"
    }
   ],
   "source": [
    "# Plot Learning Rate\n",
    "learning_rate_lr.plot(title=\"Learning Rate Learning Curve\")"
   ]
  },
  {
   "cell_type": "markdown",
   "metadata": {},
   "source": [
    "## 6.3 Tuning N_estimators"
   ]
  },
  {
   "cell_type": "markdown",
   "metadata": {},
   "source": [
    "## The optimum number of estimators is 750"
   ]
  },
  {
   "cell_type": "code",
   "execution_count": 16,
   "metadata": {},
   "outputs": [
    {
     "data": {
      "text/html": [
       "<div>\n",
       "<style scoped>\n",
       "    .dataframe tbody tr th:only-of-type {\n",
       "        vertical-align: middle;\n",
       "    }\n",
       "\n",
       "    .dataframe tbody tr th {\n",
       "        vertical-align: top;\n",
       "    }\n",
       "\n",
       "    .dataframe thead th {\n",
       "        text-align: right;\n",
       "    }\n",
       "</style>\n",
       "<table border=\"1\" class=\"dataframe\">\n",
       "  <thead>\n",
       "    <tr style=\"text-align: right;\">\n",
       "      <th></th>\n",
       "      <th>train_error</th>\n",
       "      <th>test_error</th>\n",
       "    </tr>\n",
       "    <tr>\n",
       "      <th>n_estimators</th>\n",
       "      <th></th>\n",
       "      <th></th>\n",
       "    </tr>\n",
       "  </thead>\n",
       "  <tbody>\n",
       "    <tr>\n",
       "      <th>50</th>\n",
       "      <td>0.026673</td>\n",
       "      <td>0.038148</td>\n",
       "    </tr>\n",
       "    <tr>\n",
       "      <th>60</th>\n",
       "      <td>0.026456</td>\n",
       "      <td>0.038040</td>\n",
       "    </tr>\n",
       "    <tr>\n",
       "      <th>100</th>\n",
       "      <td>0.025740</td>\n",
       "      <td>0.037775</td>\n",
       "    </tr>\n",
       "    <tr>\n",
       "      <th>150</th>\n",
       "      <td>0.024746</td>\n",
       "      <td>0.036806</td>\n",
       "    </tr>\n",
       "    <tr>\n",
       "      <th>200</th>\n",
       "      <td>0.023959</td>\n",
       "      <td>0.036721</td>\n",
       "    </tr>\n",
       "    <tr>\n",
       "      <th>500</th>\n",
       "      <td>0.020149</td>\n",
       "      <td>0.035336</td>\n",
       "    </tr>\n",
       "    <tr>\n",
       "      <th>750</th>\n",
       "      <td>0.017664</td>\n",
       "      <td>0.034947</td>\n",
       "    </tr>\n",
       "    <tr>\n",
       "      <th>1000</th>\n",
       "      <td>0.015573</td>\n",
       "      <td>0.034905</td>\n",
       "    </tr>\n",
       "    <tr>\n",
       "      <th>1500</th>\n",
       "      <td>0.012210</td>\n",
       "      <td>0.034897</td>\n",
       "    </tr>\n",
       "  </tbody>\n",
       "</table>\n",
       "</div>"
      ],
      "text/plain": [
       "              train_error  test_error\n",
       "n_estimators                         \n",
       "50               0.026673    0.038148\n",
       "60               0.026456    0.038040\n",
       "100              0.025740    0.037775\n",
       "150              0.024746    0.036806\n",
       "200              0.023959    0.036721\n",
       "500              0.020149    0.035336\n",
       "750              0.017664    0.034947\n",
       "1000             0.015573    0.034905\n",
       "1500             0.012210    0.034897"
      ]
     },
     "execution_count": 16,
     "metadata": {},
     "output_type": "execute_result"
    }
   ],
   "source": [
    "# Reset results array\n",
    "results = []\n",
    "\n",
    "for n_estimators in [50,60,100,150,200,500,750,1000, 1500]:\n",
    "    clf = xgb.XGBRegressor(max_depth=2,learning_rate=0.10, n_estimators=n_estimators)\n",
    "    clf.fit(X_train_2, y_train_2, eval_set=eval_set, verbose=False)\n",
    "    results.append(\n",
    "        {\n",
    "            'n_estimators': n_estimators,\n",
    "            'train_error': metrics.mean_squared_error(y_train_2, clf.predict(X_train_2)),\n",
    "            'test_error': metrics.mean_squared_error(y_test_2, clf.predict(X_test_2))\n",
    "        })\n",
    "    \n",
    "n_estimators_lr = pd.DataFrame(results).set_index('n_estimators').sort_index()\n",
    "n_estimators_lr"
   ]
  },
  {
   "cell_type": "code",
   "execution_count": 17,
   "metadata": {},
   "outputs": [
    {
     "data": {
      "text/plain": [
       "<matplotlib.axes._subplots.AxesSubplot at 0x1c99d715128>"
      ]
     },
     "execution_count": 17,
     "metadata": {},
     "output_type": "execute_result"
    },
    {
     "data": {
      "image/png": "[encoded data removed]",
      "text/plain": [
       "<Figure size 432x288 with 1 Axes>"
      ]
     },
     "metadata": {
      "needs_background": "light"
     },
     "output_type": "display_data"
    }
   ],
   "source": [
    "n_estimators_lr.plot(title=\"N_Estimators Learning Curve\")"
   ]
  },
  {
   "cell_type": "markdown",
   "metadata": {},
   "source": [
    "## 7. Perform grid_search"
   ]
  },
  {
   "cell_type": "code",
   "execution_count": 19,
   "metadata": {},
   "outputs": [],
   "source": [
    "model = xgb.XGBRegressor()"
   ]
  },
  {
   "cell_type": "code",
   "execution_count": 20,
   "metadata": {},
   "outputs": [],
   "source": [
    "# Define Parameters\n",
    "param_grid = {\"max_depth\": [4,5,6],\n",
    "              \"max_features\" : [1,0.8],\n",
    "              \"min_samples_leaf\" : [5,9],\n",
    "              \"n_estimators\": [700,750,760],\n",
    "              \"learning_rate\": [0.2,0.25]}"
   ]
  },
  {
   "cell_type": "code",
   "execution_count": 21,
   "metadata": {},
   "outputs": [
    {
     "name": "stdout",
     "output_type": "stream",
     "text": [
      "Fitting 3 folds for each of 72 candidates, totalling 216 fits\n"
     ]
    },
    {
     "name": "stderr",
     "output_type": "stream",
     "text": [
      "[Parallel(n_jobs=-1)]: Using backend LokyBackend with 8 concurrent workers.\n",
      "[Parallel(n_jobs=-1)]: Done   2 tasks      | elapsed:   42.9s\n",
      "[Parallel(n_jobs=-1)]: Done   9 tasks      | elapsed:  1.5min\n",
      "[Parallel(n_jobs=-1)]: Done  16 tasks      | elapsed:  1.6min\n",
      "[Parallel(n_jobs=-1)]: Done  25 tasks      | elapsed:  3.2min\n",
      "[Parallel(n_jobs=-1)]: Done  34 tasks      | elapsed:  4.2min\n",
      "[Parallel(n_jobs=-1)]: Done  45 tasks      | elapsed:  5.4min\n",
      "[Parallel(n_jobs=-1)]: Done  56 tasks      | elapsed:  6.6min\n",
      "[Parallel(n_jobs=-1)]: Done  69 tasks      | elapsed:  9.2min\n",
      "[Parallel(n_jobs=-1)]: Done  82 tasks      | elapsed: 12.1min\n",
      "[Parallel(n_jobs=-1)]: Done  97 tasks      | elapsed: 15.1min\n",
      "[Parallel(n_jobs=-1)]: Done 112 tasks      | elapsed: 16.7min\n",
      "[Parallel(n_jobs=-1)]: Done 129 tasks      | elapsed: 19.1min\n",
      "[Parallel(n_jobs=-1)]: Done 146 tasks      | elapsed: 21.2min\n",
      "[Parallel(n_jobs=-1)]: Done 165 tasks      | elapsed: 23.7min\n",
      "[Parallel(n_jobs=-1)]: Done 184 tasks      | elapsed: 26.3min\n",
      "[Parallel(n_jobs=-1)]: Done 216 out of 216 | elapsed: 31.2min finished\n"
     ]
    }
   ],
   "source": [
    "# Perform Grid Search CV\n",
    "gs_cv = GridSearchCV(model, param_grid=param_grid, cv = 3, verbose=10, n_jobs=-1 ).fit(X_train_2, y_train_2)"
   ]
  },
  {
   "cell_type": "code",
   "execution_count": 22,
   "metadata": {},
   "outputs": [
    {
     "data": {
      "text/plain": [
       "XGBRegressor(base_score=0.5, booster='gbtree', colsample_bylevel=1,\n",
       "             colsample_bytree=1, gamma=0, learning_rate=0.2, max_delta_step=0,\n",
       "             max_depth=4, max_features=1, min_child_weight=1,\n",
       "             min_samples_leaf=5, missing=None, n_estimators=700, n_jobs=1,\n",
       "             nthread=None, objective='reg:linear', random_state=0, reg_alpha=0,\n",
       "             reg_lambda=1, scale_pos_weight=1, seed=None, silent=True,\n",
       "             subsample=1)"
      ]
     },
     "execution_count": 22,
     "metadata": {},
     "output_type": "execute_result"
    }
   ],
   "source": [
    "# Best hyperparmeter setting\n",
    "gs_cv.best_estimator_"
   ]
  },
  {
   "cell_type": "markdown",
   "metadata": {},
   "source": [
    "## 8. Use the best model"
   ]
  },
  {
   "cell_type": "code",
   "execution_count": 23,
   "metadata": {},
   "outputs": [],
   "source": [
    "# Use our best model parameters found by GridSearchCV\n",
    "best_model = xgb.XGBRegressor(base_score=0.5, booster='gbtree', colsample_bylevel=1,\n",
    "       colsample_bytree=1, gamma=0, learning_rate=0.1, max_delta_step=0,\n",
    "       max_depth=3, max_features=1.0, min_child_weight=1,\n",
    "       min_samples_leaf=5, missing=None, n_estimators=450, n_jobs=1,\n",
    "       nthread=None, objective='reg:linear', random_state=0, reg_alpha=0,\n",
    "       reg_lambda=1, scale_pos_weight=1, seed=None, silent=True,\n",
    "       subsample=1)"
   ]
  },
  {
   "cell_type": "markdown",
   "metadata": {},
   "source": [
    "## 9. Plot learning curve"
   ]
  },
  {
   "cell_type": "code",
   "execution_count": 24,
   "metadata": {},
   "outputs": [
    {
     "data": {
      "text/plain": [
       "Text(0.5, 1.0, 'XGBoost RMSE')"
      ]
     },
     "execution_count": 24,
     "metadata": {},
     "output_type": "execute_result"
    },
    {
     "data": {
      "image/png": "[encoded data removed]",
      "text/plain": [
       "<Figure size 432x288 with 1 Axes>"
      ]
     },
     "metadata": {
      "needs_background": "light"
     },
     "output_type": "display_data"
    }
   ],
   "source": [
    "# Create eval_set\n",
    "eval_set = [(X_train_2, y_train_2), (X_test_2, y_test_2)]\n",
    "\n",
    "# Fit our model to the training set\n",
    "best_model.fit(X_train_2, y_train_2, eval_set=eval_set, verbose=False)\n",
    "\n",
    "# Make predictions with test data\n",
    "y_pred = best_model.predict(X_test_2)\n",
    "predictions = [round(value) for value in y_pred]\n",
    "\n",
    "# Retrieve performance metrics\n",
    "results = best_model.evals_result()\n",
    "epochs = len(results['validation_0']['rmse'])\n",
    "x_axis = range(0, epochs)\n",
    "\n",
    "# Plot log loss curve\n",
    "fig, ax = plt.subplots()\n",
    "ax.plot(x_axis, results['validation_0']['rmse'], label='Train')\n",
    "ax.plot(x_axis, results['validation_1']['rmse'], label='Test')\n",
    "ax.legend()\n",
    "plt.ylabel('RMSE')\n",
    "plt.title('XGBoost RMSE')"
   ]
  },
  {
   "cell_type": "markdown",
   "metadata": {},
   "source": [
    "## 10. Early stopping"
   ]
  },
  {
   "cell_type": "code",
   "execution_count": 25,
   "metadata": {},
   "outputs": [
    {
     "name": "stdout",
     "output_type": "stream",
     "text": [
      "[0]\tvalidation_0-rmse:0.472777\tvalidation_1-rmse:0.482396\n",
      "Multiple eval metrics have been passed: 'validation_1-rmse' will be used for early stopping.\n",
      "\n",
      "Will train until validation_1-rmse hasn't improved in 10 rounds.\n",
      "[1]\tvalidation_0-rmse:0.4317\tvalidation_1-rmse:0.442451\n",
      "[2]\tvalidation_0-rmse:0.395316\tvalidation_1-rmse:0.407245\n",
      "[3]\tvalidation_0-rmse:0.363161\tvalidation_1-rmse:0.376325\n",
      "[4]\tvalidation_0-rmse:0.334828\tvalidation_1-rmse:0.349246\n",
      "[5]\tvalidation_0-rmse:0.310009\tvalidation_1-rmse:0.32576\n",
      "[6]\tvalidation_0-rmse:0.288214\tvalidation_1-rmse:0.305372\n",
      "[7]\tvalidation_0-rmse:0.26935\tvalidation_1-rmse:0.287811\n",
      "[8]\tvalidation_0-rmse:0.252838\tvalidation_1-rmse:0.272815\n",
      "[9]\tvalidation_0-rmse:0.238604\tvalidation_1-rmse:0.259646\n",
      "[10]\tvalidation_0-rmse:0.226473\tvalidation_1-rmse:0.248802\n",
      "[11]\tvalidation_0-rmse:0.216174\tvalidation_1-rmse:0.239581\n",
      "[12]\tvalidation_0-rmse:0.207337\tvalidation_1-rmse:0.231705\n",
      "[13]\tvalidation_0-rmse:0.199757\tvalidation_1-rmse:0.225293\n",
      "[14]\tvalidation_0-rmse:0.192889\tvalidation_1-rmse:0.21818\n",
      "[15]\tvalidation_0-rmse:0.187491\tvalidation_1-rmse:0.213763\n",
      "[16]\tvalidation_0-rmse:0.183084\tvalidation_1-rmse:0.210159\n",
      "[17]\tvalidation_0-rmse:0.179222\tvalidation_1-rmse:0.206912\n",
      "[18]\tvalidation_0-rmse:0.176084\tvalidation_1-rmse:0.204418\n",
      "[19]\tvalidation_0-rmse:0.173531\tvalidation_1-rmse:0.202384\n",
      "[20]\tvalidation_0-rmse:0.171462\tvalidation_1-rmse:0.200691\n",
      "[21]\tvalidation_0-rmse:0.169455\tvalidation_1-rmse:0.199358\n",
      "[22]\tvalidation_0-rmse:0.167788\tvalidation_1-rmse:0.198279\n",
      "[23]\tvalidation_0-rmse:0.166479\tvalidation_1-rmse:0.197492\n",
      "[24]\tvalidation_0-rmse:0.165239\tvalidation_1-rmse:0.19676\n",
      "[25]\tvalidation_0-rmse:0.164464\tvalidation_1-rmse:0.196131\n",
      "[26]\tvalidation_0-rmse:0.16297\tvalidation_1-rmse:0.194231\n",
      "[27]\tvalidation_0-rmse:0.162181\tvalidation_1-rmse:0.193498\n",
      "[28]\tvalidation_0-rmse:0.161661\tvalidation_1-rmse:0.193006\n",
      "[29]\tvalidation_0-rmse:0.161108\tvalidation_1-rmse:0.192846\n",
      "[30]\tvalidation_0-rmse:0.160596\tvalidation_1-rmse:0.192533\n",
      "[31]\tvalidation_0-rmse:0.160067\tvalidation_1-rmse:0.192357\n",
      "[32]\tvalidation_0-rmse:0.159635\tvalidation_1-rmse:0.192062\n",
      "[33]\tvalidation_0-rmse:0.159451\tvalidation_1-rmse:0.191929\n",
      "[34]\tvalidation_0-rmse:0.159193\tvalidation_1-rmse:0.191895\n",
      "[35]\tvalidation_0-rmse:0.158973\tvalidation_1-rmse:0.191647\n",
      "[36]\tvalidation_0-rmse:0.158805\tvalidation_1-rmse:0.191607\n",
      "[37]\tvalidation_0-rmse:0.158488\tvalidation_1-rmse:0.191559\n",
      "[38]\tvalidation_0-rmse:0.15808\tvalidation_1-rmse:0.191491\n",
      "[39]\tvalidation_0-rmse:0.157969\tvalidation_1-rmse:0.191454\n",
      "[40]\tvalidation_0-rmse:0.157217\tvalidation_1-rmse:0.190465\n",
      "[41]\tvalidation_0-rmse:0.156869\tvalidation_1-rmse:0.190426\n",
      "[42]\tvalidation_0-rmse:0.156536\tvalidation_1-rmse:0.190435\n",
      "[43]\tvalidation_0-rmse:0.156243\tvalidation_1-rmse:0.19042\n",
      "[44]\tvalidation_0-rmse:0.156145\tvalidation_1-rmse:0.190389\n",
      "[45]\tvalidation_0-rmse:0.156008\tvalidation_1-rmse:0.190252\n",
      "[46]\tvalidation_0-rmse:0.155954\tvalidation_1-rmse:0.190241\n",
      "[47]\tvalidation_0-rmse:0.155677\tvalidation_1-rmse:0.190219\n",
      "[48]\tvalidation_0-rmse:0.155458\tvalidation_1-rmse:0.189999\n",
      "[49]\tvalidation_0-rmse:0.154791\tvalidation_1-rmse:0.188536\n",
      "[50]\tvalidation_0-rmse:0.154637\tvalidation_1-rmse:0.188499\n",
      "[51]\tvalidation_0-rmse:0.154518\tvalidation_1-rmse:0.188478\n",
      "[52]\tvalidation_0-rmse:0.154221\tvalidation_1-rmse:0.188462\n",
      "[53]\tvalidation_0-rmse:0.154186\tvalidation_1-rmse:0.188444\n",
      "[54]\tvalidation_0-rmse:0.153973\tvalidation_1-rmse:0.188425\n",
      "[55]\tvalidation_0-rmse:0.153715\tvalidation_1-rmse:0.188407\n",
      "[56]\tvalidation_0-rmse:0.153529\tvalidation_1-rmse:0.188428\n",
      "[57]\tvalidation_0-rmse:0.153303\tvalidation_1-rmse:0.188422\n",
      "[58]\tvalidation_0-rmse:0.153247\tvalidation_1-rmse:0.188402\n",
      "[59]\tvalidation_0-rmse:0.153066\tvalidation_1-rmse:0.188406\n",
      "[60]\tvalidation_0-rmse:0.152949\tvalidation_1-rmse:0.188416\n",
      "[61]\tvalidation_0-rmse:0.152757\tvalidation_1-rmse:0.188433\n",
      "[62]\tvalidation_0-rmse:0.152156\tvalidation_1-rmse:0.187117\n",
      "[63]\tvalidation_0-rmse:0.15203\tvalidation_1-rmse:0.187131\n",
      "[64]\tvalidation_0-rmse:0.151881\tvalidation_1-rmse:0.187179\n",
      "[65]\tvalidation_0-rmse:0.151848\tvalidation_1-rmse:0.187174\n",
      "[66]\tvalidation_0-rmse:0.151822\tvalidation_1-rmse:0.187199\n",
      "[67]\tvalidation_0-rmse:0.151702\tvalidation_1-rmse:0.187179\n",
      "[68]\tvalidation_0-rmse:0.151528\tvalidation_1-rmse:0.187206\n",
      "[69]\tvalidation_0-rmse:0.150979\tvalidation_1-rmse:0.186024\n",
      "[70]\tvalidation_0-rmse:0.150836\tvalidation_1-rmse:0.186041\n",
      "[71]\tvalidation_0-rmse:0.150744\tvalidation_1-rmse:0.186051\n",
      "[72]\tvalidation_0-rmse:0.150673\tvalidation_1-rmse:0.186047\n",
      "[73]\tvalidation_0-rmse:0.150171\tvalidation_1-rmse:0.184968\n",
      "[74]\tvalidation_0-rmse:0.150087\tvalidation_1-rmse:0.184955\n",
      "[75]\tvalidation_0-rmse:0.149871\tvalidation_1-rmse:0.184975\n",
      "[76]\tvalidation_0-rmse:0.149822\tvalidation_1-rmse:0.184939\n",
      "[77]\tvalidation_0-rmse:0.149759\tvalidation_1-rmse:0.184925\n",
      "[78]\tvalidation_0-rmse:0.149732\tvalidation_1-rmse:0.184945\n",
      "[79]\tvalidation_0-rmse:0.149624\tvalidation_1-rmse:0.184953\n",
      "[80]\tvalidation_0-rmse:0.149565\tvalidation_1-rmse:0.184948\n",
      "[81]\tvalidation_0-rmse:0.149451\tvalidation_1-rmse:0.184912\n",
      "[82]\tvalidation_0-rmse:0.149398\tvalidation_1-rmse:0.184907\n",
      "[83]\tvalidation_0-rmse:0.149174\tvalidation_1-rmse:0.184869\n",
      "[84]\tvalidation_0-rmse:0.149083\tvalidation_1-rmse:0.184902\n",
      "[85]\tvalidation_0-rmse:0.149044\tvalidation_1-rmse:0.184892\n",
      "[86]\tvalidation_0-rmse:0.148922\tvalidation_1-rmse:0.184907\n",
      "[87]\tvalidation_0-rmse:0.148771\tvalidation_1-rmse:0.184975\n",
      "[88]\tvalidation_0-rmse:0.148458\tvalidation_1-rmse:0.184985\n",
      "[89]\tvalidation_0-rmse:0.148156\tvalidation_1-rmse:0.184991\n",
      "[90]\tvalidation_0-rmse:0.147702\tvalidation_1-rmse:0.184012\n",
      "[91]\tvalidation_0-rmse:0.14751\tvalidation_1-rmse:0.184069\n",
      "[92]\tvalidation_0-rmse:0.147486\tvalidation_1-rmse:0.184072\n",
      "[93]\tvalidation_0-rmse:0.147447\tvalidation_1-rmse:0.184037\n",
      "[94]\tvalidation_0-rmse:0.147387\tvalidation_1-rmse:0.184015\n",
      "[95]\tvalidation_0-rmse:0.147317\tvalidation_1-rmse:0.184021\n",
      "[96]\tvalidation_0-rmse:0.147229\tvalidation_1-rmse:0.184037\n",
      "[97]\tvalidation_0-rmse:0.147123\tvalidation_1-rmse:0.184016\n",
      "[98]\tvalidation_0-rmse:0.147071\tvalidation_1-rmse:0.184016\n",
      "[99]\tvalidation_0-rmse:0.146809\tvalidation_1-rmse:0.184026\n",
      "[100]\tvalidation_0-rmse:0.146632\tvalidation_1-rmse:0.183986\n",
      "[101]\tvalidation_0-rmse:0.146476\tvalidation_1-rmse:0.184011\n",
      "[102]\tvalidation_0-rmse:0.146151\tvalidation_1-rmse:0.184014\n",
      "[103]\tvalidation_0-rmse:0.146009\tvalidation_1-rmse:0.184022\n",
      "[104]\tvalidation_0-rmse:0.145965\tvalidation_1-rmse:0.18404\n",
      "[105]\tvalidation_0-rmse:0.145837\tvalidation_1-rmse:0.184059\n",
      "[106]\tvalidation_0-rmse:0.145681\tvalidation_1-rmse:0.184049\n",
      "[107]\tvalidation_0-rmse:0.145654\tvalidation_1-rmse:0.18405\n",
      "[108]\tvalidation_0-rmse:0.145614\tvalidation_1-rmse:0.184071\n",
      "[109]\tvalidation_0-rmse:0.145583\tvalidation_1-rmse:0.184062\n",
      "[110]\tvalidation_0-rmse:0.145487\tvalidation_1-rmse:0.184085\n",
      "Stopping. Best iteration:\n",
      "[100]\tvalidation_0-rmse:0.146632\tvalidation_1-rmse:0.183986\n",
      "\n"
     ]
    },
    {
     "data": {
      "text/plain": [
       "XGBRegressor(base_score=0.5, booster='gbtree', colsample_bylevel=1,\n",
       "             colsample_bytree=1, gamma=0, learning_rate=0.1, max_delta_step=0,\n",
       "             max_depth=3, max_features=1.0, min_child_weight=1,\n",
       "             min_samples_leaf=5, missing=None, n_estimators=450, n_jobs=1,\n",
       "             nthread=None, objective='reg:linear', random_state=0, reg_alpha=0,\n",
       "             reg_lambda=1, scale_pos_weight=1, seed=None, silent=True,\n",
       "             subsample=1)"
      ]
     },
     "execution_count": 25,
     "metadata": {},
     "output_type": "execute_result"
    }
   ],
   "source": [
    "best_model.fit(X_train_2, y_train_2, early_stopping_rounds=10, eval_set=eval_set, verbose=True)"
   ]
  },
  {
   "cell_type": "code",
   "execution_count": null,
   "metadata": {},
   "outputs": [],
   "source": []
  }
 ],
 "metadata": {
  "kernelspec": {
   "display_name": "Python 3",
   "language": "python",
   "name": "python3"
  },
  "language_info": {
   "codemirror_mode": {
    "name": "ipython",
    "version": 3
   },
   "file_extension": ".py",
   "mimetype": "text/x-python",
   "name": "python",
   "nbconvert_exporter": "python",
   "pygments_lexer": "ipython3",
   "version": "3.7.1"
  }
 },
 "nbformat": 4,
 "nbformat_minor": 4
}
