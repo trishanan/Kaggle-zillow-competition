{
 "cells": [
  {
   "cell_type": "code",
   "execution_count": 1,
   "metadata": {},
   "outputs": [],
   "source": [
    "import pandas as pd\n",
    "import numpy as np\n",
    "import sys\n",
    "sys.path.insert(0, './modules')\n",
    "from Data_prep import Data\n",
    "from intersection_cols import get_data_intersection\n",
    "from model_selector import model_container\n",
    "from sklearn.ensemble import RandomForestRegressor, GradientBoostingRegressor\n",
    "from sklearn.metrics import mean_squared_error\n",
    "from sklearn.linear_model import LinearRegression"
   ]
  },
  {
   "cell_type": "code",
   "execution_count": 2,
   "metadata": {},
   "outputs": [],
   "source": [
    "#define number of processors to use for parallel runs\n",
    "num_procs = 4\n",
    "\n",
    "#set verbose level for models\n",
    "verbose_lvl = 0\n",
    "\n",
    "#define input files\n",
    "train_file = r'C:\\Users\\Admin\\Desktop\\Kaggle_Zillow Compitation\\Raw Data\\train_2016.csv'\n",
    "properties_2016_file = r'C:\\Users\\Admin\\Desktop\\Kaggle_Zillow Compitation\\Raw Data\\properties_2016.csv'\n",
    "test_file = r'C:\\Users\\Admin\\Desktop\\Kaggle_Zillow Compitation\\Raw Data\\train_2017.csv'\n",
    "properties_2017_file = r'C:\\Users\\Admin\\Desktop\\Kaggle_Zillow Compitation\\Raw Data\\properties_2017.csv'\n",
    "\n",
    "\n",
    "#define variables\n",
    "cat_cols = ['hashottuborspa', 'propertycountylandusecode', 'fireplaceflag', 'taxdelinquencyflag']\n",
    "num_cols = ['airconditioningtypeid', 'architecturalstyletypeid',\n",
    "       'basementsqft', 'bathroomcnt', 'bedroomcnt', 'buildingclasstypeid',\n",
    "       'buildingqualitytypeid', 'calculatedbathnbr', 'decktypeid',\n",
    "       'finishedfloor1squarefeet', 'calculatedfinishedsquarefeet',\n",
    "       'finishedsquarefeet12', 'finishedsquarefeet13', 'finishedsquarefeet15',\n",
    "       'finishedsquarefeet50', 'finishedsquarefeet6', 'fips', 'fireplacecnt',\n",
    "       'fullbathcnt', 'garagecarcnt', 'garagetotalsqft',\n",
    "       'heatingorsystemtypeid', 'latitude', 'longitude', 'lotsizesquarefeet',\n",
    "       'poolcnt', 'poolsizesum', 'pooltypeid10', 'pooltypeid2', 'pooltypeid7',\n",
    "        'propertylandusetypeid', 'regionidcity',\n",
    "       'regionidcounty', 'roomcnt', 'storytypeid', 'threequarterbathnbr',\n",
    "       'typeconstructiontypeid', 'unitcnt', 'yardbuildingsqft17',\n",
    "       'yardbuildingsqft26', 'yearbuilt', 'numberofstories',\n",
    "       'structuretaxvaluedollarcnt', 'taxvaluedollarcnt', 'assessmentyear',\n",
    "       'landtaxvaluedollarcnt', 'taxamount',\n",
    "       'taxdelinquencyyear']\n",
    "date_col = ['transactiondate']\n",
    "target_col = 'logerror'\n",
    "id_col = 'parcelid'"
   ]
  },
  {
   "cell_type": "code",
   "execution_count": 3,
   "metadata": {},
   "outputs": [
    {
     "name": "stderr",
     "output_type": "stream",
     "text": [
      "C:\\Users\\Admin\\Anaconda3\\lib\\site-packages\\ipykernel_launcher.py:1: DtypeWarning: Columns (22,32,34,49,55) have mixed types.Specify dtype option on import or set low_memory=False.\n",
      "  \"\"\"Entry point for launching an IPython kernel.\n",
      "C:\\Users\\Admin\\Anaconda3\\lib\\site-packages\\ipykernel_launcher.py:1: DtypeWarning: Columns (49) have mixed types.Specify dtype option on import or set low_memory=False.\n",
      "  \"\"\"Entry point for launching an IPython kernel.\n"
     ]
    }
   ],
   "source": [
    "data = Data(train_file, properties_2016_file, test_file, properties_2017_file , cat_cols, num_cols, date_col, target_col, id_col)"
   ]
  },
  {
   "cell_type": "code",
   "execution_count": 4,
   "metadata": {},
   "outputs": [],
   "source": [
    "new_data = get_data_intersection(data)\n",
    "new_data.filter_cols()"
   ]
  },
  {
   "cell_type": "code",
   "execution_count": 5,
   "metadata": {},
   "outputs": [],
   "source": [
    "models = model_container()\n",
    "\n",
    "#create models -- hyperparameter tuning already done by hand for each model\n",
    "models.add_model(LinearRegression())\n",
    "models.add_model(RandomForestRegressor(n_estimators=500, n_jobs=num_procs, max_depth=22, min_samples_leaf=10, \n",
    "                                       max_features=0.7, verbose=verbose_lvl))\n",
    "models.add_model(GradientBoostingRegressor(n_estimators=450,learning_rate=0.1, max_depth=3, loss='ls', min_samples_leaf=5,verbose=verbose_lvl))"
   ]
  },
  {
   "cell_type": "code",
   "execution_count": 6,
   "metadata": {},
   "outputs": [],
   "source": [
    "models.cross_validate_score(data, k=2)\n",
    "models.select_best_model()"
   ]
  },
  {
   "cell_type": "code",
   "execution_count": 7,
   "metadata": {},
   "outputs": [],
   "source": [
    "models.fit_best_model(data.train_df[data.feature_cols], data.train_df[data.target_col])\n",
    "models.predict_using_best_model(data.test_df[data.feature_cols])"
   ]
  },
  {
   "cell_type": "code",
   "execution_count": 8,
   "metadata": {},
   "outputs": [
    {
     "name": "stdout",
     "output_type": "stream",
     "text": [
      "\n",
      "Model Summaries:\n",
      "\n",
      "\n",
      " LinearRegression(copy_X=True, fit_intercept=True, n_jobs=None, normalize=False) - MSE: 0.029076283895008798\n",
      "\n",
      " RandomForestRegressor(bootstrap=True, ccp_alpha=0.0, criterion='mse',\n",
      "                      max_depth=22, max_features=0.7, max_leaf_nodes=None,\n",
      "                      max_samples=None, min_impurity_decrease=0.0,\n",
      "                      min_impurity_split=None, min_samples_leaf=10,\n",
      "                      min_samples_split=2, min_weight_fraction_leaf=0.0,\n",
      "                      n_estimators=500, n_jobs=4, oob_score=False,\n",
      "                      random_state=None, verbose=0, warm_start=False) - MSE: 0.026796928314528727\n",
      "\n",
      " GradientBoostingRegressor(alpha=0.9, ccp_alpha=0.0, criterion='friedman_mse',\n",
      "                          init=None, learning_rate=0.1, loss='ls', max_depth=3,\n",
      "                          max_features=None, max_leaf_nodes=None,\n",
      "                          min_impurity_decrease=0.0, min_impurity_split=None,\n",
      "                          min_samples_leaf=5, min_samples_split=2,\n",
      "                          min_weight_fraction_leaf=0.0, n_estimators=450,\n",
      "                          n_iter_no_change=None, presort='deprecated',\n",
      "                          random_state=None, subsample=1.0, tol=0.0001,\n",
      "                          validation_fraction=0.1, verbose=0, warm_start=False) - MSE: 0.027421795367081087\n",
      "\n",
      "Best Model:\n",
      " RandomForestRegressor(bootstrap=True, ccp_alpha=0.0, criterion='mse',\n",
      "                      max_depth=22, max_features=0.7, max_leaf_nodes=None,\n",
      "                      max_samples=None, min_impurity_decrease=0.0,\n",
      "                      min_impurity_split=None, min_samples_leaf=10,\n",
      "                      min_samples_split=2, min_weight_fraction_leaf=0.0,\n",
      "                      n_estimators=500, n_jobs=4, oob_score=False,\n",
      "                      random_state=None, verbose=0, warm_start=False)\n",
      "\n",
      "MSE of Best Model\n",
      " 0.026796928314528727\n",
      "\n",
      "Feature Importances\n",
      "                                 importance\n",
      "feature                                   \n",
      "taxamount                         0.107333\n",
      "structuretaxvaluedollarcnt        0.098594\n",
      "latitude                          0.084635\n",
      "longitude                         0.076857\n",
      "landtaxvaluedollarcnt             0.074609\n",
      "lotsizesquarefeet                 0.073641\n",
      "calculatedfinishedsquarefeet      0.072112\n",
      "taxvaluedollarcnt                 0.071880\n",
      "yearbuilt                         0.068905\n",
      "finishedsquarefeet12              0.057291\n",
      "transactiondate_month             0.045450\n",
      "regionidcity                      0.041510\n",
      "bedroomcnt                        0.013312\n",
      "garagetotalsqft                   0.011887\n",
      "propertycountylandusecode_0101    0.009664\n"
     ]
    },
    {
     "data": {
      "image/png": "[encoded data removed]",
      "text/plain": [
       "<Figure size 432x288 with 1 Axes>"
      ]
     },
     "metadata": {
      "needs_background": "light"
     },
     "output_type": "display_data"
    }
   ],
   "source": [
    "models.print_summary(data)"
   ]
  }
 ],
 "metadata": {
  "kernelspec": {
   "display_name": "Python 3",
   "language": "python",
   "name": "python3"
  },
  "language_info": {
   "codemirror_mode": {
    "name": "ipython",
    "version": 3
   },
   "file_extension": ".py",
   "mimetype": "text/x-python",
   "name": "python",
   "nbconvert_exporter": "python",
   "pygments_lexer": "ipython3",
   "version": "3.7.1"
  }
 },
 "nbformat": 4,
 "nbformat_minor": 2
}
